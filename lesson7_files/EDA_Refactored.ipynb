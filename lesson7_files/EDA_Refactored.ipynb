{
 "cells": [
  {
   "cell_type": "markdown",
   "metadata": {},
   "source": [
    "# E-commerce Business Analytics Report\n",
    "\n",
    "A comprehensive analysis of e-commerce sales data focusing on business performance metrics, customer satisfaction, and operational efficiency.\n",
    "\n",
    "## Table of Contents\n",
    "\n",
    "1. [Introduction and Business Objectives](#introduction)\n",
    "2. [Data Loading and Configuration](#data-loading)\n",
    "3. [Data Dictionary](#data-dictionary)\n",
    "4. [Data Preparation and Transformation](#data-preparation)\n",
    "5. [Business Metrics Analysis](#business-metrics)\n",
    "   - [Revenue Performance Analysis](#revenue-analysis)\n",
    "   - [Product Category Performance](#product-analysis)\n",
    "   - [Geographic Performance Analysis](#geographic-analysis)\n",
    "   - [Customer Experience Analysis](#customer-analysis)\n",
    "6. [Summary of Key Observations](#summary)"
   ]
  },
  {
   "cell_type": "markdown",
   "metadata": {},
   "source": [
    "<a id='introduction'></a>\n",
    "## 1. Introduction and Business Objectives\n",
    "\n",
    "This analysis examines e-commerce sales data to provide actionable insights for business decision-making. The analysis is designed to be configurable, allowing for flexible time period comparisons and reusable across different datasets.\n",
    "\n",
    "### Business Objectives\n",
    "\n",
    "- **Revenue Performance**: Analyze total revenue, growth trends, and order patterns\n",
    "- **Product Strategy**: Identify top-performing categories and revenue drivers\n",
    "- **Geographic Insights**: Understand regional performance variations\n",
    "- **Customer Satisfaction**: Evaluate delivery performance and review metrics\n",
    "- **Operational Efficiency**: Assess delivery times and fulfillment quality\n",
    "\n",
    "### Analysis Configuration\n",
    "\n",
    "The analysis parameters can be adjusted below to analyze different time periods:"
   ]
  },
  {
   "cell_type": "code",
   "execution_count": 1,
   "metadata": {},
   "outputs": [
    {
     "name": "stdout",
     "output_type": "stream",
     "text": [
      "Analysis Period: 2023\n",
      "Comparison Period: 2022\n",
      "Month Filter: Full Year\n"
     ]
    }
   ],
   "source": [
    "# Analysis Configuration Parameters\n",
    "# Modify these parameters to analyze different time periods\n",
    "\n",
    "ANALYSIS_YEAR = 2023          # Primary year to analyze\n",
    "COMPARISON_YEAR = 2022        # Comparison year for growth calculations (or None)\n",
    "ANALYSIS_MONTH = None         # Specific month to analyze (1-12), or None for full year\n",
    "DATA_PATH = 'ecommerce_data/' # Path to data directory\n",
    "\n",
    "print(f\"Analysis Period: {ANALYSIS_YEAR}\")\n",
    "print(f\"Comparison Period: {COMPARISON_YEAR if COMPARISON_YEAR else 'None'}\")\n",
    "print(f\"Month Filter: {ANALYSIS_MONTH if ANALYSIS_MONTH else 'Full Year'}\")"
   ]
  },
  {
   "cell_type": "markdown",
   "metadata": {},
   "source": [
    "<a id='data-loading'></a>\n",
    "## 2. Data Loading and Configuration\n",
    "\n",
    "Loading required libraries and initializing the analysis framework with custom modules for data loading and metrics calculation."
   ]
  },
  {
   "cell_type": "code",
   "execution_count": 2,
   "metadata": {},
   "outputs": [
    {
     "name": "stdout",
     "output_type": "stream",
     "text": [
      "Libraries loaded successfully\n"
     ]
    }
   ],
   "source": [
    "# Add the current directory to Python path for module imports\n",
    "import sys\n",
    "import os\n",
    "\n",
    "# Get the directory containing this notebook\n",
    "notebook_dir = os.path.dirname(os.path.abspath(\"__file__\")) if \"__file__\" in dir() else os.getcwd()\n",
    "if notebook_dir not in sys.path:\n",
    "    sys.path.insert(0, notebook_dir)\n",
    "\n",
    "# Import standard libraries\n",
    "import pandas as pd\n",
    "import numpy as np\n",
    "import matplotlib.pyplot as plt\n",
    "import plotly.express as px\n",
    "import warnings\n",
    "\n",
    "# Import custom modules\n",
    "from data_loader import EcommerceDataLoader, load_and_process_data\n",
    "from business_metrics import (\n",
    "    BusinessMetricsCalculator,\n",
    "    MetricsVisualizer,\n",
    "    print_metrics_summary\n",
    ")\n",
    "\n",
    "# Configure display settings\n",
    "warnings.filterwarnings('ignore')\n",
    "pd.set_option('display.max_columns', None)\n",
    "pd.set_option('display.precision', 2)\n",
    "\n",
    "# Configure matplotlib for inline display in Jupyter\n",
    "try:\n",
    "    get_ipython().run_line_magic('matplotlib', 'inline')\n",
    "except NameError:\n",
    "    # If not in Jupyter environment, use standard backend\n",
    "    plt.ion()\n",
    "\n",
    "print(\"Libraries loaded successfully\")"
   ]
  },
  {
   "cell_type": "code",
   "execution_count": 3,
   "metadata": {},
   "outputs": [
    {
     "name": "stdout",
     "output_type": "stream",
     "text": [
      "Loaded orders: 10000 records\n",
      "Loaded order_items: 16047 records\n",
      "Loaded products: 6000 records\n",
      "Loaded customers: 8000 records\n",
      "Loaded reviews: 6571 records\n",
      "\n",
      "Dataset Summary:\n",
      "======================================================================\n",
      "\n",
      "ORDERS:\n",
      "  Rows: 10,000\n",
      "  Columns: 11\n",
      "  Memory Usage: 2.9 MB\n",
      "  Date Range: 2021-12-31 to 2024-01-01\n",
      "\n",
      "ORDER_ITEMS:\n",
      "  Rows: 16,047\n",
      "  Columns: 7\n",
      "  Memory Usage: 4.1 MB\n",
      "\n",
      "REVIEWS:\n",
      "  Rows: 6,571\n",
      "  Columns: 7\n",
      "  Memory Usage: 2.3 MB\n"
     ]
    }
   ],
   "source": [
    "# Load and process all datasets\n",
    "loader, processed_data = load_and_process_data(DATA_PATH)\n",
    "\n",
    "# Display data summary\n",
    "data_summary = loader.get_data_summary()\n",
    "print(\"\\nDataset Summary:\")\n",
    "print(\"=\" * 70)\n",
    "for dataset, info in data_summary.items():\n",
    "    print(f\"\\n{dataset.upper()}:\")\n",
    "    print(f\"  Rows: {info['rows']:,}\")\n",
    "    print(f\"  Columns: {info['columns']}\")\n",
    "    print(f\"  Memory Usage: {info['memory_usage_mb']:.1f} MB\")\n",
    "    if info['date_range']:\n",
    "        print(f\"  Date Range: {info['date_range']['start'].date()} to {info['date_range']['end'].date()}\")"
   ]
  },
  {
   "cell_type": "markdown",
   "metadata": {},
   "source": [
    "<a id='data-dictionary'></a>\n",
    "## 3. Data Dictionary\n",
    "\n",
    "### Core Data Tables\n",
    "\n",
    "**Orders Dataset**\n",
    "- `order_id`: Unique identifier for each order\n",
    "- `customer_id`: Unique identifier for the customer\n",
    "- `order_status`: Current status (delivered, shipped, canceled, etc.)\n",
    "- `order_purchase_timestamp`: Date and time when order was placed\n",
    "- `order_delivered_customer_date`: Date and time when order was delivered\n",
    "\n",
    "**Order Items Dataset**\n",
    "- `order_id`: Links to orders table\n",
    "- `product_id`: Unique identifier for the product\n",
    "- `price`: Item price in USD (excluding shipping)\n",
    "- `freight_value`: Shipping cost in USD\n",
    "\n",
    "**Products Dataset**\n",
    "- `product_id`: Unique identifier for each product\n",
    "- `product_category_name`: Product category classification\n",
    "\n",
    "**Customers Dataset**\n",
    "- `customer_id`: Unique identifier for each customer\n",
    "- `customer_state`: State abbreviation (e.g., CA, TX, NY)\n",
    "- `customer_city`: City name\n",
    "\n",
    "**Reviews Dataset**\n",
    "- `order_id`: Links to orders table\n",
    "- `review_score`: Customer rating on 1-5 scale (5 = best)\n",
    "\n",
    "### Key Business Metrics Definitions\n",
    "\n",
    "**Revenue Metrics**\n",
    "- **Total Revenue**: Sum of all item prices for delivered orders\n",
    "- **Average Order Value (AOV)**: Total revenue divided by number of unique orders\n",
    "- **Revenue Growth Rate**: Year-over-year percentage change in revenue\n",
    "\n",
    "**Customer Metrics**\n",
    "- **Review Score**: Average customer satisfaction rating (1-5 scale)\n",
    "- **Delivery Days**: Time between order placement and delivery to customer\n",
    "- **Fast Delivery**: Orders delivered within 3 days or less\n",
    "\n",
    "**Product Metrics**\n",
    "- **Revenue Share**: Percentage of total revenue contributed by a category\n",
    "- **Top Categories**: Categories ranked by total revenue"
   ]
  },
  {
   "cell_type": "markdown",
   "metadata": {},
   "source": [
    "<a id='data-preparation'></a>\n",
    "## 4. Data Preparation and Transformation\n",
    "\n",
    "Creating comprehensive sales datasets for the analysis and comparison periods. The data is filtered based on the configuration parameters and includes all relevant information from orders, products, customers, and reviews."
   ]
  },
  {
   "cell_type": "code",
   "execution_count": 4,
   "metadata": {},
   "outputs": [
    {
     "name": "stdout",
     "output_type": "stream",
     "text": [
      "Analysis Dataset (2023):\n",
      "  Total Records: 7,448\n",
      "  Unique Orders: 4,635\n",
      "  Total Revenue: $3,360,294.74\n",
      "  Date Range: 2023-01-01 to 2023-12-31\n",
      "\n",
      "Sample Data (first 5 records):\n"
     ]
    },
    {
     "data": {
      "text/html": [
       "<div>\n",
       "<style scoped>\n",
       "    .dataframe tbody tr th:only-of-type {\n",
       "        vertical-align: middle;\n",
       "    }\n",
       "\n",
       "    .dataframe tbody tr th {\n",
       "        vertical-align: top;\n",
       "    }\n",
       "\n",
       "    .dataframe thead th {\n",
       "        text-align: right;\n",
       "    }\n",
       "</style>\n",
       "<table border=\"1\" class=\"dataframe\">\n",
       "  <thead>\n",
       "    <tr style=\"text-align: right;\">\n",
       "      <th></th>\n",
       "      <th>order_id</th>\n",
       "      <th>price</th>\n",
       "      <th>purchase_year</th>\n",
       "      <th>purchase_month</th>\n",
       "      <th>product_category_name</th>\n",
       "      <th>customer_state</th>\n",
       "      <th>review_score</th>\n",
       "      <th>delivery_days</th>\n",
       "    </tr>\n",
       "  </thead>\n",
       "  <tbody>\n",
       "    <tr>\n",
       "      <th>0</th>\n",
       "      <td>ord_5fa044951857e02fd1347b47</td>\n",
       "      <td>111.91</td>\n",
       "      <td>2023</td>\n",
       "      <td>4</td>\n",
       "      <td>grocery_gourmet_food</td>\n",
       "      <td>TN</td>\n",
       "      <td>5.0</td>\n",
       "      <td>6</td>\n",
       "    </tr>\n",
       "    <tr>\n",
       "      <th>1</th>\n",
       "      <td>ord_5fa044951857e02fd1347b47</td>\n",
       "      <td>878.42</td>\n",
       "      <td>2023</td>\n",
       "      <td>4</td>\n",
       "      <td>electronics</td>\n",
       "      <td>TN</td>\n",
       "      <td>5.0</td>\n",
       "      <td>6</td>\n",
       "    </tr>\n",
       "    <tr>\n",
       "      <th>2</th>\n",
       "      <td>ord_43b53981d951f855231d09ec</td>\n",
       "      <td>749.83</td>\n",
       "      <td>2023</td>\n",
       "      <td>12</td>\n",
       "      <td>sports_outdoors</td>\n",
       "      <td>FL</td>\n",
       "      <td>5.0</td>\n",
       "      <td>9</td>\n",
       "    </tr>\n",
       "    <tr>\n",
       "      <th>3</th>\n",
       "      <td>ord_e60b1e267fd32d93c4d0745b</td>\n",
       "      <td>361.54</td>\n",
       "      <td>2023</td>\n",
       "      <td>4</td>\n",
       "      <td>home_garden</td>\n",
       "      <td>PA</td>\n",
       "      <td>5.0</td>\n",
       "      <td>11</td>\n",
       "    </tr>\n",
       "    <tr>\n",
       "      <th>4</th>\n",
       "      <td>ord_e60b1e267fd32d93c4d0745b</td>\n",
       "      <td>25.59</td>\n",
       "      <td>2023</td>\n",
       "      <td>4</td>\n",
       "      <td>grocery_gourmet_food</td>\n",
       "      <td>PA</td>\n",
       "      <td>5.0</td>\n",
       "      <td>11</td>\n",
       "    </tr>\n",
       "  </tbody>\n",
       "</table>\n",
       "</div>"
      ],
      "text/plain": [
       "                       order_id   price  purchase_year  purchase_month  \\\n",
       "0  ord_5fa044951857e02fd1347b47  111.91           2023               4   \n",
       "1  ord_5fa044951857e02fd1347b47  878.42           2023               4   \n",
       "2  ord_43b53981d951f855231d09ec  749.83           2023              12   \n",
       "3  ord_e60b1e267fd32d93c4d0745b  361.54           2023               4   \n",
       "4  ord_e60b1e267fd32d93c4d0745b   25.59           2023               4   \n",
       "\n",
       "  product_category_name customer_state  review_score  delivery_days  \n",
       "0  grocery_gourmet_food             TN           5.0              6  \n",
       "1           electronics             TN           5.0              6  \n",
       "2       sports_outdoors             FL           5.0              9  \n",
       "3           home_garden             PA           5.0             11  \n",
       "4  grocery_gourmet_food             PA           5.0             11  "
      ]
     },
     "metadata": {},
     "output_type": "display_data"
    }
   ],
   "source": [
    "# Create sales dataset for analysis period\n",
    "sales_data_current = loader.create_sales_dataset(\n",
    "    year_filter=ANALYSIS_YEAR,\n",
    "    month_filter=ANALYSIS_MONTH,\n",
    "    status_filter='delivered'\n",
    ")\n",
    "\n",
    "print(f\"Analysis Dataset ({ANALYSIS_YEAR}):\")\n",
    "print(f\"  Total Records: {len(sales_data_current):,}\")\n",
    "print(f\"  Unique Orders: {sales_data_current['order_id'].nunique():,}\")\n",
    "print(f\"  Total Revenue: ${sales_data_current['price'].sum():,.2f}\")\n",
    "if len(sales_data_current) > 0:\n",
    "    print(f\"  Date Range: {sales_data_current['order_purchase_timestamp'].min().date()} to {sales_data_current['order_purchase_timestamp'].max().date()}\")\n",
    "\n",
    "# Display sample of the dataset\n",
    "print(f\"\\nSample Data (first 5 records):\")\n",
    "display(sales_data_current[[\n",
    "    'order_id', 'price', 'purchase_year', 'purchase_month',\n",
    "    'product_category_name', 'customer_state', 'review_score', 'delivery_days'\n",
    "]].head())"
   ]
  },
  {
   "cell_type": "code",
   "execution_count": 5,
   "metadata": {},
   "outputs": [
    {
     "name": "stdout",
     "output_type": "stream",
     "text": [
      "Comparison Dataset (2022):\n",
      "  Total Records: 7,641\n",
      "  Unique Orders: 4,749\n",
      "  Total Revenue: $3,445,076.96\n",
      "\n",
      "Combined Dataset: 15,089 records\n"
     ]
    }
   ],
   "source": [
    "# Create comparison dataset if comparison year is specified\n",
    "if COMPARISON_YEAR:\n",
    "    sales_data_comparison = loader.create_sales_dataset(\n",
    "        year_filter=COMPARISON_YEAR,\n",
    "        month_filter=ANALYSIS_MONTH,\n",
    "        status_filter='delivered'\n",
    "    )\n",
    "    \n",
    "    print(f\"Comparison Dataset ({COMPARISON_YEAR}):\")\n",
    "    print(f\"  Total Records: {len(sales_data_comparison):,}\")\n",
    "    print(f\"  Unique Orders: {sales_data_comparison['order_id'].nunique():,}\")\n",
    "    print(f\"  Total Revenue: ${sales_data_comparison['price'].sum():,.2f}\")\n",
    "    \n",
    "    # Create combined dataset for year-over-year analysis\n",
    "    combined_data = pd.concat([sales_data_current, sales_data_comparison], ignore_index=True)\n",
    "else:\n",
    "    combined_data = sales_data_current\n",
    "    print(\"No comparison year specified\")\n",
    "\n",
    "print(f\"\\nCombined Dataset: {len(combined_data):,} records\")"
   ]
  },
  {
   "cell_type": "markdown",
   "metadata": {},
   "source": [
    "<a id='business-metrics'></a>\n",
    "## 5. Business Metrics Analysis\n",
    "\n",
    "Comprehensive analysis of key business performance indicators using the BusinessMetricsCalculator class."
   ]
  },
  {
   "cell_type": "code",
   "execution_count": 6,
   "metadata": {},
   "outputs": [
    {
     "name": "stdout",
     "output_type": "stream",
     "text": [
      "============================================================\n",
      "BUSINESS METRICS SUMMARY - 2023\n",
      "============================================================\n",
      "\n",
      "REVENUE PERFORMANCE:\n",
      "  Total Revenue: $3,360,294.74\n",
      "  Total Orders: 4,635\n",
      "  Average Order Value: $724.98\n",
      "  Revenue Growth: -2.5%\n",
      "  Order Growth: -2.4%\n",
      "\n",
      "CUSTOMER SATISFACTION:\n",
      "  Average Review Score: 4.10/5.0\n",
      "  High Satisfaction (4+ stars): 51.6%\n",
      "\n",
      "DELIVERY PERFORMANCE:\n",
      "  Average Delivery Time: 8.0 days\n",
      "  Fast Delivery (3 days or less): 7.2%\n",
      "============================================================\n"
     ]
    }
   ],
   "source": [
    "# Initialize metrics calculator with combined dataset\n",
    "metrics_calc = BusinessMetricsCalculator(combined_data)\n",
    "\n",
    "# Generate comprehensive business report\n",
    "business_report = metrics_calc.generate_comprehensive_report(\n",
    "    current_year=ANALYSIS_YEAR,\n",
    "    previous_year=COMPARISON_YEAR\n",
    ")\n",
    "\n",
    "# Print executive summary\n",
    "print_metrics_summary(business_report)"
   ]
  },
  {
   "cell_type": "markdown",
   "metadata": {},
   "source": [
    "<a id='revenue-analysis'></a>\n",
    "### 5.1 Revenue Performance Analysis\n",
    "\n",
    "Analyzing overall revenue trends, growth patterns, and key financial performance indicators."
   ]
  },
  {
   "cell_type": "code",
   "execution_count": 7,
   "metadata": {},
   "outputs": [
    {
     "name": "stdout",
     "output_type": "stream",
     "text": [
      "DETAILED REVENUE ANALYSIS - 2023\n",
      "======================================================================\n",
      "\n",
      "Financial Performance:\n",
      "  Total Revenue: $3,360,294.74\n",
      "  Total Orders: 4,635\n",
      "  Total Items Sold: 7,448\n",
      "  Average Order Value: $724.98\n",
      "\n",
      "Year-over-Year Comparison vs 2022:\n",
      "  Revenue Growth: -2.46%\n",
      "  Order Growth: -2.40%\n",
      "  AOV Growth: -0.06%\n",
      "\n",
      "Previous Year (2022):\n",
      "  Total Revenue: $3,445,076.96\n",
      "  Total Orders: 4,749\n",
      "  Average Order Value: $725.43\n"
     ]
    }
   ],
   "source": [
    "# Extract revenue metrics from report\n",
    "revenue_metrics = business_report['revenue_metrics']\n",
    "\n",
    "print(f\"DETAILED REVENUE ANALYSIS - {ANALYSIS_YEAR}\")\n",
    "print(\"=\" * 70)\n",
    "print(f\"\\nFinancial Performance:\")\n",
    "print(f\"  Total Revenue: ${revenue_metrics['total_revenue']:,.2f}\")\n",
    "print(f\"  Total Orders: {revenue_metrics['total_orders']:,}\")\n",
    "print(f\"  Total Items Sold: {revenue_metrics['total_items_sold']:,}\")\n",
    "print(f\"  Average Order Value: ${revenue_metrics['average_order_value']:,.2f}\")\n",
    "\n",
    "if COMPARISON_YEAR and 'revenue_growth_rate' in revenue_metrics:\n",
    "    print(f\"\\nYear-over-Year Comparison vs {COMPARISON_YEAR}:\")\n",
    "    print(f\"  Revenue Growth: {revenue_metrics['revenue_growth_rate']:+.2f}%\")\n",
    "    print(f\"  Order Growth: {revenue_metrics['order_growth_rate']:+.2f}%\")\n",
    "    print(f\"  AOV Growth: {revenue_metrics['aov_growth_rate']:+.2f}%\")\n",
    "    \n",
    "    print(f\"\\nPrevious Year ({COMPARISON_YEAR}):\")\n",
    "    print(f\"  Total Revenue: ${revenue_metrics['previous_year_revenue']:,.2f}\")\n",
    "    print(f\"  Total Orders: {revenue_metrics['previous_year_orders']:,}\")\n",
    "    print(f\"  Average Order Value: ${revenue_metrics['previous_year_aov']:,.2f}\")"
   ]
  },
  {
   "cell_type": "code",
   "execution_count": 8,
   "metadata": {},
   "outputs": [
    {
     "data": {
      "image/png": "[encoded data removed]",
      "text/plain": [
       "<Figure size 1400x600 with 1 Axes>"
      ]
     },
     "metadata": {},
     "output_type": "display_data"
    },
    {
     "name": "stdout",
     "output_type": "stream",
     "text": [
      "\n",
      "Monthly Revenue Breakdown for 2023:\n"
     ]
    },
    {
     "data": {
      "text/html": [
       "<div>\n",
       "<style scoped>\n",
       "    .dataframe tbody tr th:only-of-type {\n",
       "        vertical-align: middle;\n",
       "    }\n",
       "\n",
       "    .dataframe tbody tr th {\n",
       "        vertical-align: top;\n",
       "    }\n",
       "\n",
       "    .dataframe thead th {\n",
       "        text-align: right;\n",
       "    }\n",
       "</style>\n",
       "<table border=\"1\" class=\"dataframe\">\n",
       "  <thead>\n",
       "    <tr style=\"text-align: right;\">\n",
       "      <th></th>\n",
       "      <th>month</th>\n",
       "      <th>revenue</th>\n",
       "      <th>orders</th>\n",
       "      <th>avg_order_value</th>\n",
       "      <th>revenue_growth</th>\n",
       "    </tr>\n",
       "  </thead>\n",
       "  <tbody>\n",
       "    <tr>\n",
       "      <th>0</th>\n",
       "      <td>1</td>\n",
       "      <td>284855.48</td>\n",
       "      <td>384</td>\n",
       "      <td>741.81</td>\n",
       "      <td>NaN</td>\n",
       "    </tr>\n",
       "    <tr>\n",
       "      <th>1</th>\n",
       "      <td>2</td>\n",
       "      <td>276758.54</td>\n",
       "      <td>384</td>\n",
       "      <td>720.73</td>\n",
       "      <td>-2.84</td>\n",
       "    </tr>\n",
       "    <tr>\n",
       "      <th>2</th>\n",
       "      <td>3</td>\n",
       "      <td>285618.77</td>\n",
       "      <td>394</td>\n",
       "      <td>724.92</td>\n",
       "      <td>3.20</td>\n",
       "    </tr>\n",
       "    <tr>\n",
       "      <th>3</th>\n",
       "      <td>4</td>\n",
       "      <td>253794.62</td>\n",
       "      <td>370</td>\n",
       "      <td>685.93</td>\n",
       "      <td>-11.14</td>\n",
       "    </tr>\n",
       "    <tr>\n",
       "      <th>4</th>\n",
       "      <td>5</td>\n",
       "      <td>301347.96</td>\n",
       "      <td>396</td>\n",
       "      <td>760.98</td>\n",
       "      <td>18.74</td>\n",
       "    </tr>\n",
       "    <tr>\n",
       "      <th>5</th>\n",
       "      <td>6</td>\n",
       "      <td>289126.72</td>\n",
       "      <td>406</td>\n",
       "      <td>712.13</td>\n",
       "      <td>-4.06</td>\n",
       "    </tr>\n",
       "    <tr>\n",
       "      <th>6</th>\n",
       "      <td>7</td>\n",
       "      <td>296209.39</td>\n",
       "      <td>392</td>\n",
       "      <td>755.64</td>\n",
       "      <td>2.45</td>\n",
       "    </tr>\n",
       "    <tr>\n",
       "      <th>7</th>\n",
       "      <td>8</td>\n",
       "      <td>286645.60</td>\n",
       "      <td>375</td>\n",
       "      <td>764.39</td>\n",
       "      <td>-3.23</td>\n",
       "    </tr>\n",
       "    <tr>\n",
       "      <th>8</th>\n",
       "      <td>9</td>\n",
       "      <td>303793.15</td>\n",
       "      <td>384</td>\n",
       "      <td>791.13</td>\n",
       "      <td>5.98</td>\n",
       "    </tr>\n",
       "    <tr>\n",
       "      <th>9</th>\n",
       "      <td>10</td>\n",
       "      <td>259890.15</td>\n",
       "      <td>379</td>\n",
       "      <td>685.73</td>\n",
       "      <td>-14.45</td>\n",
       "    </tr>\n",
       "    <tr>\n",
       "      <th>10</th>\n",
       "      <td>11</td>\n",
       "      <td>259518.93</td>\n",
       "      <td>384</td>\n",
       "      <td>675.83</td>\n",
       "      <td>-0.14</td>\n",
       "    </tr>\n",
       "    <tr>\n",
       "      <th>11</th>\n",
       "      <td>12</td>\n",
       "      <td>262735.43</td>\n",
       "      <td>387</td>\n",
       "      <td>678.90</td>\n",
       "      <td>1.24</td>\n",
       "    </tr>\n",
       "  </tbody>\n",
       "</table>\n",
       "</div>"
      ],
      "text/plain": [
       "    month    revenue  orders  avg_order_value  revenue_growth\n",
       "0       1  284855.48     384           741.81             NaN\n",
       "1       2  276758.54     384           720.73           -2.84\n",
       "2       3  285618.77     394           724.92            3.20\n",
       "3       4  253794.62     370           685.93          -11.14\n",
       "4       5  301347.96     396           760.98           18.74\n",
       "5       6  289126.72     406           712.13           -4.06\n",
       "6       7  296209.39     392           755.64            2.45\n",
       "7       8  286645.60     375           764.39           -3.23\n",
       "8       9  303793.15     384           791.13            5.98\n",
       "9      10  259890.15     379           685.73          -14.45\n",
       "10     11  259518.93     384           675.83           -0.14\n",
       "11     12  262735.43     387           678.90            1.24"
      ]
     },
     "metadata": {},
     "output_type": "display_data"
    }
   ],
   "source": [
    "# Visualize monthly revenue trend\n",
    "visualizer = MetricsVisualizer(business_report)\n",
    "revenue_fig = visualizer.plot_revenue_trend(figsize=(14, 6))\n",
    "plt.show()\n",
    "\n",
    "# Display monthly trends table\n",
    "monthly_trends = business_report['monthly_trends']\n",
    "print(f\"\\nMonthly Revenue Breakdown for {ANALYSIS_YEAR}:\")\n",
    "display(monthly_trends[['month', 'revenue', 'orders', 'avg_order_value', 'revenue_growth']].round(2))"
   ]
  },
  {
   "cell_type": "code",
   "execution_count": 9,
   "metadata": {},
   "outputs": [
    {
     "name": "stdout",
     "output_type": "stream",
     "text": [
      "Monthly Performance Insights:\n",
      "  Best Revenue Month: Month 9 ($303,793)\n",
      "  Lowest Revenue Month: Month 4 ($253,795)\n",
      "  Average Monthly Growth: -0.39%\n",
      "  Revenue Volatility (Std Dev): $17,285\n"
     ]
    }
   ],
   "source": [
    "# Monthly performance insights\n",
    "monthly_trends = business_report['monthly_trends']\n",
    "\n",
    "best_month = monthly_trends.loc[monthly_trends['revenue'].idxmax()]\n",
    "worst_month = monthly_trends.loc[monthly_trends['revenue'].idxmin()]\n",
    "avg_monthly_growth = monthly_trends['revenue_growth'].mean()\n",
    "\n",
    "print(f\"Monthly Performance Insights:\")\n",
    "print(f\"  Best Revenue Month: Month {int(best_month['month'])} (${best_month['revenue']:,.0f})\")\n",
    "print(f\"  Lowest Revenue Month: Month {int(worst_month['month'])} (${worst_month['revenue']:,.0f})\")\n",
    "print(f\"  Average Monthly Growth: {avg_monthly_growth:.2f}%\")\n",
    "print(f\"  Revenue Volatility (Std Dev): ${monthly_trends['revenue'].std():,.0f}\")"
   ]
  },
  {
   "cell_type": "markdown",
   "metadata": {},
   "source": [
    "<a id='product-analysis'></a>\n",
    "### 5.2 Product Category Performance\n",
    "\n",
    "Understanding which product categories drive the most revenue and identifying growth opportunities."
   ]
  },
  {
   "cell_type": "code",
   "execution_count": 10,
   "metadata": {},
   "outputs": [
    {
     "name": "stdout",
     "output_type": "stream",
     "text": [
      "TOP PRODUCT CATEGORIES - 2023\n",
      "======================================================================\n",
      "\n",
      "Category                               Revenue      Share     Orders\n",
      "----------------------------------------------------------------------\n",
      "electronics                    $     1,401,359      41.7%     1,227\n",
      "home_garden                    $       862,653      25.7%     1,045\n",
      "sports_outdoors                $       278,845       8.3%       645\n",
      "automotive                     $       247,707       7.4%       473\n",
      "clothing_shoes_jewelry         $       232,745       6.9%       828\n",
      "toys_games                     $        70,164       2.1%       461\n",
      "health_personal_care           $        65,370       1.9%       613\n",
      "tools_home_improvement         $        54,280       1.6%       213\n",
      "beauty_personal_care           $        49,213       1.5%       309\n",
      "books_media                    $        38,559       1.1%       687\n",
      "\n",
      "Product Category Insights:\n",
      "  Total Product Categories: 13\n",
      "  Top 5 Categories Revenue Share: 90.0%\n",
      "  Market Concentration: High\n"
     ]
    }
   ],
   "source": [
    "# Product category analysis\n",
    "product_data = business_report['product_performance']\n",
    "\n",
    "if 'error' not in product_data:\n",
    "    print(f\"TOP PRODUCT CATEGORIES - {ANALYSIS_YEAR}\")\n",
    "    print(\"=\" * 70)\n",
    "    \n",
    "    top_categories = product_data['top_categories']\n",
    "    \n",
    "    # Display top categories\n",
    "    print(f\"\\n{'Category':<30} {'Revenue':>15} {'Share':>10} {'Orders':>10}\")\n",
    "    print(\"-\" * 70)\n",
    "    for idx, row in top_categories.iterrows():\n",
    "        print(f\"{row['product_category_name']:<30} ${row['total_revenue']:>14,.0f} {row['revenue_share']:>9.1f}% {row['unique_orders']:>9,}\")\n",
    "    \n",
    "    # Category insights\n",
    "    total_categories = len(product_data['all_categories'])\n",
    "    top_5_share = top_categories.head(5)['revenue_share'].sum()\n",
    "    \n",
    "    print(f\"\\nProduct Category Insights:\")\n",
    "    print(f\"  Total Product Categories: {total_categories}\")\n",
    "    print(f\"  Top 5 Categories Revenue Share: {top_5_share:.1f}%\")\n",
    "    print(f\"  Market Concentration: {'High' if top_5_share > 70 else 'Moderate' if top_5_share > 50 else 'Diversified'}\")\n",
    "else:\n",
    "    print(\"Product category data not available for analysis\")"
   ]
  },
  {
   "cell_type": "code",
   "execution_count": 11,
   "metadata": {},
   "outputs": [
    {
     "data": {
      "image/png": "[encoded data removed]",
      "text/plain": [
       "<Figure size 1400x800 with 1 Axes>"
      ]
     },
     "metadata": {},
     "output_type": "display_data"
    }
   ],
   "source": [
    "# Visualize category performance\n",
    "if 'error' not in product_data:\n",
    "    category_fig = visualizer.plot_category_performance(top_n=10, figsize=(14, 8))\n",
    "    plt.show()"
   ]
  },
  {
   "cell_type": "markdown",
   "metadata": {},
   "source": [
    "<a id='geographic-analysis'></a>\n",
    "### 5.3 Geographic Performance Analysis\n",
    "\n",
    "Analyzing sales performance across different geographic regions to identify market opportunities and regional trends."
   ]
  },
  {
   "cell_type": "code",
   "execution_count": 12,
   "metadata": {},
   "outputs": [
    {
     "name": "stdout",
     "output_type": "stream",
     "text": [
      "GEOGRAPHIC PERFORMANCE - 2023\n",
      "======================================================================\n",
      "\n",
      "State            Revenue     Orders    Avg Order Value\n",
      "----------------------------------------------------------------------\n",
      "CA       $       537,881       769 $              699\n",
      "TX       $       403,303       561 $              719\n",
      "FL       $       310,196       431 $              720\n",
      "NY       $       253,112       384 $              659\n",
      "IL       $       185,931       260 $              715\n",
      "PA       $       173,261       225 $              770\n",
      "OH       $       157,620       200 $              788\n",
      "GA       $       146,415       190 $              771\n",
      "MI       $       132,326       210 $              630\n",
      "NC       $       128,315       177 $              725\n",
      "\n",
      "Geographic Insights:\n",
      "  States with Sales: 20\n",
      "  Top 5 States Revenue Share: 50.3%\n",
      "  Highest AOV State: IN ($814)\n"
     ]
    }
   ],
   "source": [
    "# Geographic analysis\n",
    "geo_data = business_report['geographic_performance']\n",
    "\n",
    "if 'error' not in geo_data.columns:\n",
    "    print(f\"GEOGRAPHIC PERFORMANCE - {ANALYSIS_YEAR}\")\n",
    "    print(\"=\" * 70)\n",
    "    \n",
    "    # Display top 10 states\n",
    "    top_states = geo_data.head(10)\n",
    "    print(f\"\\n{'State':<8} {'Revenue':>15} {'Orders':>10} {'Avg Order Value':>18}\")\n",
    "    print(\"-\" * 70)\n",
    "    for idx, row in top_states.iterrows():\n",
    "        print(f\"{row['state']:<8} ${row['revenue']:>14,.0f} {row['orders']:>9,} ${row['avg_order_value']:>17,.0f}\")\n",
    "    \n",
    "    # Geographic insights\n",
    "    total_states = len(geo_data)\n",
    "    top_5_revenue = top_states.head(5)['revenue'].sum()\n",
    "    total_revenue = geo_data['revenue'].sum()\n",
    "    top_5_share = (top_5_revenue / total_revenue) * 100\n",
    "    \n",
    "    highest_aov_state = geo_data.loc[geo_data['avg_order_value'].idxmax()]\n",
    "    \n",
    "    print(f\"\\nGeographic Insights:\")\n",
    "    print(f\"  States with Sales: {total_states}\")\n",
    "    print(f\"  Top 5 States Revenue Share: {top_5_share:.1f}%\")\n",
    "    print(f\"  Highest AOV State: {highest_aov_state['state']} (${highest_aov_state['avg_order_value']:,.0f})\")\n",
    "else:\n",
    "    print(\"Geographic data not available for analysis\")"
   ]
  },
  {
   "cell_type": "code",
   "execution_count": 13,
   "metadata": {},
   "outputs": [
    {
     "data": {
      "application/vnd.plotly.v1+json": {
       "config": {
        "plotlyServerURL": "https://plot.ly"
       },
       "data": [
        {
         "coloraxis": "coloraxis",
         "geo": "geo",
         "hovertemplate": "state=%{location}<br>Revenue (USD)=%{z}<extra></extra>",
         "locationmode": "USA-states",
         "locations": [
          "CA",
          "TX",
          "FL",
          "NY",
          "IL",
          "PA",
          "OH",
          "GA",
          "MI",
          "NC",
          "NJ",
          "VA",
          "MA",
          "AZ",
          "WA",
          "MD",
          "IN",
          "MO",
          "WI",
          "TN"
         ],
         "name": "",
         "type": "choropleth",
         "z": {
          "bdata": "rkfhejFqIEFcj8L1nZ0YQcP1KFzP7hJBzczMzL7lDkHrUbgeV7IGQQrXo3BlJgVBKVyPwp09A0EzMzMzdd8BQc3MzMwsJwBBcT0K16tT/0Bcj8L12Bz/QHE9CtePsflASOF6FHIs+UBmZmZm0nD4QIXrUbiqOfdAFa5H4TYp9UAUrkfh2hD1QDMzMzOzr/JA9ihcjx6E8kDsUbgezXLyQA==",
          "dtype": "f8"
         }
        }
       ],
       "layout": {
        "coloraxis": {
         "colorbar": {
          "title": {
           "text": "Revenue (USD)"
          }
         },
         "colorscale": [
          [
           0,
           "rgb(247,251,255)"
          ],
          [
           0.125,
           "rgb(222,235,247)"
          ],
          [
           0.25,
           "rgb(198,219,239)"
          ],
          [
           0.375,
           "rgb(158,202,225)"
          ],
          [
           0.5,
           "rgb(107,174,214)"
          ],
          [
           0.625,
           "rgb(66,146,198)"
          ],
          [
           0.75,
           "rgb(33,113,181)"
          ],
          [
           0.875,
           "rgb(8,81,156)"
          ],
          [
           1,
           "rgb(8,48,107)"
          ]
         ]
        },
        "geo": {
         "center": {},
         "domain": {
          "x": [
           0,
           1
          ],
          "y": [
           0,
           1
          ]
         },
         "scope": "usa",
         "showcoastlines": true,
         "showframe": false
        },
        "legend": {
         "tracegroupgap": 0
        },
        "template": {
         "data": {
          "bar": [
           {
            "error_x": {
             "color": "#2a3f5f"
            },
            "error_y": {
             "color": "#2a3f5f"
            },
            "marker": {
             "line": {
              "color": "#E5ECF6",
              "width": 0.5
             },
             "pattern": {
              "fillmode": "overlay",
              "size": 10,
              "solidity": 0.2
             }
            },
            "type": "bar"
           }
          ],
          "barpolar": [
           {
            "marker": {
             "line": {
              "color": "#E5ECF6",
              "width": 0.5
             },
             "pattern": {
              "fillmode": "overlay",
              "size": 10,
              "solidity": 0.2
             }
            },
            "type": "barpolar"
           }
          ],
          "carpet": [
           {
            "aaxis": {
             "endlinecolor": "#2a3f5f",
             "gridcolor": "white",
             "linecolor": "white",
             "minorgridcolor": "white",
             "startlinecolor": "#2a3f5f"
            },
            "baxis": {
             "endlinecolor": "#2a3f5f",
             "gridcolor": "white",
             "linecolor": "white",
             "minorgridcolor": "white",
             "startlinecolor": "#2a3f5f"
            },
            "type": "carpet"
           }
          ],
          "choropleth": [
           {
            "colorbar": {
             "outlinewidth": 0,
             "ticks": ""
            },
            "type": "choropleth"
           }
          ],
          "contour": [
           {
            "colorbar": {
             "outlinewidth": 0,
             "ticks": ""
            },
            "colorscale": [
             [
              0,
              "#0d0887"
             ],
             [
              0.1111111111111111,
              "#46039f"
             ],
             [
              0.2222222222222222,
              "#7201a8"
             ],
             [
              0.3333333333333333,
              "#9c179e"
             ],
             [
              0.4444444444444444,
              "#bd3786"
             ],
             [
              0.5555555555555556,
              "#d8576b"
             ],
             [
              0.6666666666666666,
              "#ed7953"
             ],
             [
              0.7777777777777778,
              "#fb9f3a"
             ],
             [
              0.8888888888888888,
              "#fdca26"
             ],
             [
              1,
              "#f0f921"
             ]
            ],
            "type": "contour"
           }
          ],
          "contourcarpet": [
           {
            "colorbar": {
             "outlinewidth": 0,
             "ticks": ""
            },
            "type": "contourcarpet"
           }
          ],
          "heatmap": [
           {
            "colorbar": {
             "outlinewidth": 0,
             "ticks": ""
            },
            "colorscale": [
             [
              0,
              "#0d0887"
             ],
             [
              0.1111111111111111,
              "#46039f"
             ],
             [
              0.2222222222222222,
              "#7201a8"
             ],
             [
              0.3333333333333333,
              "#9c179e"
             ],
             [
              0.4444444444444444,
              "#bd3786"
             ],
             [
              0.5555555555555556,
              "#d8576b"
             ],
             [
              0.6666666666666666,
              "#ed7953"
             ],
             [
              0.7777777777777778,
              "#fb9f3a"
             ],
             [
              0.8888888888888888,
              "#fdca26"
             ],
             [
              1,
              "#f0f921"
             ]
            ],
            "type": "heatmap"
           }
          ],
          "histogram": [
           {
            "marker": {
             "pattern": {
              "fillmode": "overlay",
              "size": 10,
              "solidity": 0.2
             }
            },
            "type": "histogram"
           }
          ],
          "histogram2d": [
           {
            "colorbar": {
             "outlinewidth": 0,
             "ticks": ""
            },
            "colorscale": [
             [
              0,
              "#0d0887"
             ],
             [
              0.1111111111111111,
              "#46039f"
             ],
             [
              0.2222222222222222,
              "#7201a8"
             ],
             [
              0.3333333333333333,
              "#9c179e"
             ],
             [
              0.4444444444444444,
              "#bd3786"
             ],
             [
              0.5555555555555556,
              "#d8576b"
             ],
             [
              0.6666666666666666,
              "#ed7953"
             ],
             [
              0.7777777777777778,
              "#fb9f3a"
             ],
             [
              0.8888888888888888,
              "#fdca26"
             ],
             [
              1,
              "#f0f921"
             ]
            ],
            "type": "histogram2d"
           }
          ],
          "histogram2dcontour": [
           {
            "colorbar": {
             "outlinewidth": 0,
             "ticks": ""
            },
            "colorscale": [
             [
              0,
              "#0d0887"
             ],
             [
              0.1111111111111111,
              "#46039f"
             ],
             [
              0.2222222222222222,
              "#7201a8"
             ],
             [
              0.3333333333333333,
              "#9c179e"
             ],
             [
              0.4444444444444444,
              "#bd3786"
             ],
             [
              0.5555555555555556,
              "#d8576b"
             ],
             [
              0.6666666666666666,
              "#ed7953"
             ],
             [
              0.7777777777777778,
              "#fb9f3a"
             ],
             [
              0.8888888888888888,
              "#fdca26"
             ],
             [
              1,
              "#f0f921"
             ]
            ],
            "type": "histogram2dcontour"
           }
          ],
          "mesh3d": [
           {
            "colorbar": {
             "outlinewidth": 0,
             "ticks": ""
            },
            "type": "mesh3d"
           }
          ],
          "parcoords": [
           {
            "line": {
             "colorbar": {
              "outlinewidth": 0,
              "ticks": ""
             }
            },
            "type": "parcoords"
           }
          ],
          "pie": [
           {
            "automargin": true,
            "type": "pie"
           }
          ],
          "scatter": [
           {
            "fillpattern": {
             "fillmode": "overlay",
             "size": 10,
             "solidity": 0.2
            },
            "type": "scatter"
           }
          ],
          "scatter3d": [
           {
            "line": {
             "colorbar": {
              "outlinewidth": 0,
              "ticks": ""
             }
            },
            "marker": {
             "colorbar": {
              "outlinewidth": 0,
              "ticks": ""
             }
            },
            "type": "scatter3d"
           }
          ],
          "scattercarpet": [
           {
            "marker": {
             "colorbar": {
              "outlinewidth": 0,
              "ticks": ""
             }
            },
            "type": "scattercarpet"
           }
          ],
          "scattergeo": [
           {
            "marker": {
             "colorbar": {
              "outlinewidth": 0,
              "ticks": ""
             }
            },
            "type": "scattergeo"
           }
          ],
          "scattergl": [
           {
            "marker": {
             "colorbar": {
              "outlinewidth": 0,
              "ticks": ""
             }
            },
            "type": "scattergl"
           }
          ],
          "scattermap": [
           {
            "marker": {
             "colorbar": {
              "outlinewidth": 0,
              "ticks": ""
             }
            },
            "type": "scattermap"
           }
          ],
          "scattermapbox": [
           {
            "marker": {
             "colorbar": {
              "outlinewidth": 0,
              "ticks": ""
             }
            },
            "type": "scattermapbox"
           }
          ],
          "scatterpolar": [
           {
            "marker": {
             "colorbar": {
              "outlinewidth": 0,
              "ticks": ""
             }
            },
            "type": "scatterpolar"
           }
          ],
          "scatterpolargl": [
           {
            "marker": {
             "colorbar": {
              "outlinewidth": 0,
              "ticks": ""
             }
            },
            "type": "scatterpolargl"
           }
          ],
          "scatterternary": [
           {
            "marker": {
             "colorbar": {
              "outlinewidth": 0,
              "ticks": ""
             }
            },
            "type": "scatterternary"
           }
          ],
          "surface": [
           {
            "colorbar": {
             "outlinewidth": 0,
             "ticks": ""
            },
            "colorscale": [
             [
              0,
              "#0d0887"
             ],
             [
              0.1111111111111111,
              "#46039f"
             ],
             [
              0.2222222222222222,
              "#7201a8"
             ],
             [
              0.3333333333333333,
              "#9c179e"
             ],
             [
              0.4444444444444444,
              "#bd3786"
             ],
             [
              0.5555555555555556,
              "#d8576b"
             ],
             [
              0.6666666666666666,
              "#ed7953"
             ],
             [
              0.7777777777777778,
              "#fb9f3a"
             ],
             [
              0.8888888888888888,
              "#fdca26"
             ],
             [
              1,
              "#f0f921"
             ]
            ],
            "type": "surface"
           }
          ],
          "table": [
           {
            "cells": {
             "fill": {
              "color": "#EBF0F8"
             },
             "line": {
              "color": "white"
             }
            },
            "header": {
             "fill": {
              "color": "#C8D4E3"
             },
             "line": {
              "color": "white"
             }
            },
            "type": "table"
           }
          ]
         },
         "layout": {
          "annotationdefaults": {
           "arrowcolor": "#2a3f5f",
           "arrowhead": 0,
           "arrowwidth": 1
          },
          "autotypenumbers": "strict",
          "coloraxis": {
           "colorbar": {
            "outlinewidth": 0,
            "ticks": ""
           }
          },
          "colorscale": {
           "diverging": [
            [
             0,
             "#8e0152"
            ],
            [
             0.1,
             "#c51b7d"
            ],
            [
             0.2,
             "#de77ae"
            ],
            [
             0.3,
             "#f1b6da"
            ],
            [
             0.4,
             "#fde0ef"
            ],
            [
             0.5,
             "#f7f7f7"
            ],
            [
             0.6,
             "#e6f5d0"
            ],
            [
             0.7,
             "#b8e186"
            ],
            [
             0.8,
             "#7fbc41"
            ],
            [
             0.9,
             "#4d9221"
            ],
            [
             1,
             "#276419"
            ]
           ],
           "sequential": [
            [
             0,
             "#0d0887"
            ],
            [
             0.1111111111111111,
             "#46039f"
            ],
            [
             0.2222222222222222,
             "#7201a8"
            ],
            [
             0.3333333333333333,
             "#9c179e"
            ],
            [
             0.4444444444444444,
             "#bd3786"
            ],
            [
             0.5555555555555556,
             "#d8576b"
            ],
            [
             0.6666666666666666,
             "#ed7953"
            ],
            [
             0.7777777777777778,
             "#fb9f3a"
            ],
            [
             0.8888888888888888,
             "#fdca26"
            ],
            [
             1,
             "#f0f921"
            ]
           ],
           "sequentialminus": [
            [
             0,
             "#0d0887"
            ],
            [
             0.1111111111111111,
             "#46039f"
            ],
            [
             0.2222222222222222,
             "#7201a8"
            ],
            [
             0.3333333333333333,
             "#9c179e"
            ],
            [
             0.4444444444444444,
             "#bd3786"
            ],
            [
             0.5555555555555556,
             "#d8576b"
            ],
            [
             0.6666666666666666,
             "#ed7953"
            ],
            [
             0.7777777777777778,
             "#fb9f3a"
            ],
            [
             0.8888888888888888,
             "#fdca26"
            ],
            [
             1,
             "#f0f921"
            ]
           ]
          },
          "colorway": [
           "#636efa",
           "#EF553B",
           "#00cc96",
           "#ab63fa",
           "#FFA15A",
           "#19d3f3",
           "#FF6692",
           "#B6E880",
           "#FF97FF",
           "#FECB52"
          ],
          "font": {
           "color": "#2a3f5f"
          },
          "geo": {
           "bgcolor": "white",
           "lakecolor": "white",
           "landcolor": "#E5ECF6",
           "showlakes": true,
           "showland": true,
           "subunitcolor": "white"
          },
          "hoverlabel": {
           "align": "left"
          },
          "hovermode": "closest",
          "mapbox": {
           "style": "light"
          },
          "paper_bgcolor": "white",
          "plot_bgcolor": "#E5ECF6",
          "polar": {
           "angularaxis": {
            "gridcolor": "white",
            "linecolor": "white",
            "ticks": ""
           },
           "bgcolor": "#E5ECF6",
           "radialaxis": {
            "gridcolor": "white",
            "linecolor": "white",
            "ticks": ""
           }
          },
          "scene": {
           "xaxis": {
            "backgroundcolor": "#E5ECF6",
            "gridcolor": "white",
            "gridwidth": 2,
            "linecolor": "white",
            "showbackground": true,
            "ticks": "",
            "zerolinecolor": "white"
           },
           "yaxis": {
            "backgroundcolor": "#E5ECF6",
            "gridcolor": "white",
            "gridwidth": 2,
            "linecolor": "white",
            "showbackground": true,
            "ticks": "",
            "zerolinecolor": "white"
           },
           "zaxis": {
            "backgroundcolor": "#E5ECF6",
            "gridcolor": "white",
            "gridwidth": 2,
            "linecolor": "white",
            "showbackground": true,
            "ticks": "",
            "zerolinecolor": "white"
           }
          },
          "shapedefaults": {
           "line": {
            "color": "#2a3f5f"
           }
          },
          "ternary": {
           "aaxis": {
            "gridcolor": "white",
            "linecolor": "white",
            "ticks": ""
           },
           "baxis": {
            "gridcolor": "white",
            "linecolor": "white",
            "ticks": ""
           },
           "bgcolor": "#E5ECF6",
           "caxis": {
            "gridcolor": "white",
            "linecolor": "white",
            "ticks": ""
           }
          },
          "title": {
           "x": 0.05
          },
          "xaxis": {
           "automargin": true,
           "gridcolor": "white",
           "linecolor": "white",
           "ticks": "",
           "title": {
            "standoff": 15
           },
           "zerolinecolor": "white",
           "zerolinewidth": 2
          },
          "yaxis": {
           "automargin": true,
           "gridcolor": "white",
           "linecolor": "white",
           "ticks": "",
           "title": {
            "standoff": 15
           },
           "zerolinecolor": "white",
           "zerolinewidth": 2
          }
         }
        },
        "title": {
         "font": {
          "size": 16
         },
         "text": "Revenue by State - 2023",
         "x": 0.5
        }
       }
      }
     },
     "metadata": {},
     "output_type": "display_data"
    }
   ],
   "source": [
    "# Visualize geographic heatmap\n",
    "if 'error' not in geo_data.columns:\n",
    "    geo_fig = visualizer.plot_geographic_heatmap()\n",
    "    geo_fig.show()"
   ]
  },
  {
   "cell_type": "markdown",
   "metadata": {},
   "source": [
    "<a id='customer-analysis'></a>\n",
    "### 5.4 Customer Experience Analysis\n",
    "\n",
    "Evaluating customer satisfaction through review scores and delivery performance metrics."
   ]
  },
  {
   "cell_type": "code",
   "execution_count": 14,
   "metadata": {},
   "outputs": [
    {
     "name": "stdout",
     "output_type": "stream",
     "text": [
      "CUSTOMER SATISFACTION ANALYSIS - 2023\n",
      "======================================================================\n",
      "\n",
      "Review Score Metrics:\n",
      "  Average Review Score: 4.10/5.0\n",
      "  Total Reviews: 3,225\n",
      "  5-Star Reviews: 34.7%\n",
      "  4+ Star Reviews: 51.6%\n",
      "  Low Satisfaction (1-2 stars): 7.2%\n",
      "\n",
      "Overall Satisfaction Level: Good\n"
     ]
    }
   ],
   "source": [
    "# Customer satisfaction analysis\n",
    "satisfaction_metrics = business_report['customer_satisfaction']\n",
    "\n",
    "if 'error' not in satisfaction_metrics:\n",
    "    print(f\"CUSTOMER SATISFACTION ANALYSIS - {ANALYSIS_YEAR}\")\n",
    "    print(\"=\" * 70)\n",
    "    print(f\"\\nReview Score Metrics:\")\n",
    "    print(f\"  Average Review Score: {satisfaction_metrics['avg_review_score']:.2f}/5.0\")\n",
    "    print(f\"  Total Reviews: {satisfaction_metrics['total_reviews']:,}\")\n",
    "    print(f\"  5-Star Reviews: {satisfaction_metrics['score_5_percentage']:.1f}%\")\n",
    "    print(f\"  4+ Star Reviews: {satisfaction_metrics['score_4_plus_percentage']:.1f}%\")\n",
    "    print(f\"  Low Satisfaction (1-2 stars): {satisfaction_metrics['score_1_2_percentage']:.1f}%\")\n",
    "    \n",
    "    # Satisfaction level assessment\n",
    "    avg_score = satisfaction_metrics['avg_review_score']\n",
    "    if avg_score >= 4.5:\n",
    "        satisfaction_level = 'Excellent'\n",
    "    elif avg_score >= 4.0:\n",
    "        satisfaction_level = 'Good'\n",
    "    elif avg_score >= 3.5:\n",
    "        satisfaction_level = 'Fair'\n",
    "    else:\n",
    "        satisfaction_level = 'Needs Improvement'\n",
    "    \n",
    "    print(f\"\\nOverall Satisfaction Level: {satisfaction_level}\")\n",
    "else:\n",
    "    print(\"Customer satisfaction data not available for analysis\")"
   ]
  },
  {
   "cell_type": "code",
   "execution_count": 15,
   "metadata": {},
   "outputs": [
    {
     "data": {
      "image/png": "[encoded data removed]",
      "text/plain": [
       "<Figure size 1200x600 with 1 Axes>"
      ]
     },
     "metadata": {},
     "output_type": "display_data"
    }
   ],
   "source": [
    "# Visualize review distribution\n",
    "if 'error' not in satisfaction_metrics:\n",
    "    review_fig = visualizer.plot_review_distribution(figsize=(12, 6))\n",
    "    plt.show()"
   ]
  },
  {
   "cell_type": "code",
   "execution_count": 16,
   "metadata": {},
   "outputs": [
    {
     "name": "stdout",
     "output_type": "stream",
     "text": [
      "DELIVERY PERFORMANCE ANALYSIS - 2023\n",
      "======================================================================\n",
      "\n",
      "Delivery Time Metrics:\n",
      "  Average Delivery Time: 8.0 days\n",
      "  Median Delivery Time: 8.0 days\n",
      "  Fast Delivery (3 days or less): 7.2%\n",
      "  Slow Delivery (over 7 days): 55.6%\n",
      "\n",
      "Delivery Performance Rating: Needs Improvement\n"
     ]
    }
   ],
   "source": [
    "# Delivery performance analysis\n",
    "delivery_metrics = business_report['delivery_performance']\n",
    "\n",
    "if 'error' not in delivery_metrics:\n",
    "    print(f\"DELIVERY PERFORMANCE ANALYSIS - {ANALYSIS_YEAR}\")\n",
    "    print(\"=\" * 70)\n",
    "    print(f\"\\nDelivery Time Metrics:\")\n",
    "    print(f\"  Average Delivery Time: {delivery_metrics['avg_delivery_days']:.1f} days\")\n",
    "    print(f\"  Median Delivery Time: {delivery_metrics['median_delivery_days']:.1f} days\")\n",
    "    print(f\"  Fast Delivery (3 days or less): {delivery_metrics['fast_delivery_percentage']:.1f}%\")\n",
    "    print(f\"  Slow Delivery (over 7 days): {delivery_metrics['slow_delivery_percentage']:.1f}%\")\n",
    "    \n",
    "    # Delivery performance assessment\n",
    "    avg_delivery = delivery_metrics['avg_delivery_days']\n",
    "    if avg_delivery <= 3:\n",
    "        delivery_rating = 'Excellent'\n",
    "    elif avg_delivery <= 5:\n",
    "        delivery_rating = 'Good'\n",
    "    elif avg_delivery <= 7:\n",
    "        delivery_rating = 'Fair'\n",
    "    else:\n",
    "        delivery_rating = 'Needs Improvement'\n",
    "    \n",
    "    print(f\"\\nDelivery Performance Rating: {delivery_rating}\")\n",
    "else:\n",
    "    print(\"Delivery performance data not available for analysis\")"
   ]
  },
  {
   "cell_type": "code",
   "execution_count": 17,
   "metadata": {},
   "outputs": [
    {
     "name": "stdout",
     "output_type": "stream",
     "text": [
      "\n",
      "Delivery-Satisfaction Relationship:\n",
      "  Average Review Score: 4.10/5.0\n",
      "  Average Delivery Time: 8.0 days\n",
      "  Fast Delivery Rate: 7.2%\n",
      "\n",
      "Review Scores by Delivery Speed:\n"
     ]
    },
    {
     "data": {
      "text/html": [
       "<div>\n",
       "<style scoped>\n",
       "    .dataframe tbody tr th:only-of-type {\n",
       "        vertical-align: middle;\n",
       "    }\n",
       "\n",
       "    .dataframe tbody tr th {\n",
       "        vertical-align: top;\n",
       "    }\n",
       "\n",
       "    .dataframe thead th {\n",
       "        text-align: right;\n",
       "    }\n",
       "</style>\n",
       "<table border=\"1\" class=\"dataframe\">\n",
       "  <thead>\n",
       "    <tr style=\"text-align: right;\">\n",
       "      <th></th>\n",
       "      <th>mean</th>\n",
       "      <th>count</th>\n",
       "    </tr>\n",
       "    <tr>\n",
       "      <th>delivery_category</th>\n",
       "      <th></th>\n",
       "      <th></th>\n",
       "    </tr>\n",
       "  </thead>\n",
       "  <tbody>\n",
       "    <tr>\n",
       "      <th>1-3 days</th>\n",
       "      <td>4.21</td>\n",
       "      <td>366</td>\n",
       "    </tr>\n",
       "    <tr>\n",
       "      <th>4-7 days</th>\n",
       "      <td>4.07</td>\n",
       "      <td>1969</td>\n",
       "    </tr>\n",
       "    <tr>\n",
       "      <th>8+ days</th>\n",
       "      <td>4.11</td>\n",
       "      <td>2861</td>\n",
       "    </tr>\n",
       "  </tbody>\n",
       "</table>\n",
       "</div>"
      ],
      "text/plain": [
       "                   mean  count\n",
       "delivery_category             \n",
       "1-3 days           4.21    366\n",
       "4-7 days           4.07   1969\n",
       "8+ days            4.11   2861"
      ]
     },
     "metadata": {},
     "output_type": "display_data"
    }
   ],
   "source": [
    "# Analyze relationship between delivery speed and satisfaction\n",
    "if 'error' not in satisfaction_metrics and 'error' not in delivery_metrics:\n",
    "    print(f\"\\nDelivery-Satisfaction Relationship:\")\n",
    "    print(f\"  Average Review Score: {satisfaction_metrics['avg_review_score']:.2f}/5.0\")\n",
    "    print(f\"  Average Delivery Time: {delivery_metrics['avg_delivery_days']:.1f} days\")\n",
    "    print(f\"  Fast Delivery Rate: {delivery_metrics['fast_delivery_percentage']:.1f}%\")\n",
    "    \n",
    "    # Analyze delivery speed categories with review scores\n",
    "    from data_loader import categorize_delivery_speed\n",
    "    \n",
    "    delivery_satisfaction = sales_data_current.copy()\n",
    "    delivery_satisfaction['delivery_category'] = delivery_satisfaction['delivery_days'].apply(categorize_delivery_speed)\n",
    "    \n",
    "    speed_review_analysis = delivery_satisfaction.groupby('delivery_category')['review_score'].agg(['mean', 'count']).round(2)\n",
    "    print(f\"\\nReview Scores by Delivery Speed:\")\n",
    "    display(speed_review_analysis)"
   ]
  },
  {
   "cell_type": "code",
   "execution_count": 18,
   "metadata": {},
   "outputs": [
    {
     "name": "stdout",
     "output_type": "stream",
     "text": [
      "\n",
      "ORDER STATUS DISTRIBUTION - 2023\n",
      "======================================================================\n",
      "\n",
      "Order Status      Percentage\n",
      "------------------------------\n",
      "delivered            100.00%\n"
     ]
    }
   ],
   "source": [
    "# Order status distribution\n",
    "status_dist = business_report['order_status_distribution']\n",
    "\n",
    "if 'error' not in status_dist.columns:\n",
    "    print(f\"\\nORDER STATUS DISTRIBUTION - {ANALYSIS_YEAR}\")\n",
    "    print(\"=\" * 70)\n",
    "    print(f\"\\n{'Order Status':<15} {'Percentage':>12}\")\n",
    "    print(\"-\" * 30)\n",
    "    for idx, row in status_dist.iterrows():\n",
    "        print(f\"{row['order_status']:<15} {row['percentage']:>11.2f}%\")"
   ]
  },
  {
   "cell_type": "markdown",
   "metadata": {},
   "source": [
    "<a id='summary'></a>\n",
    "## 6. Summary of Key Observations\n",
    "\n",
    "### Executive Summary\n",
    "\n",
    "This section provides a comprehensive summary of the analysis findings and strategic recommendations."
   ]
  },
  {
   "cell_type": "code",
   "execution_count": 19,
   "metadata": {},
   "outputs": [
    {
     "name": "stdout",
     "output_type": "stream",
     "text": [
      "EXECUTIVE SUMMARY - 2023 BUSINESS PERFORMANCE\n",
      "======================================================================\n",
      "\n",
      "Financial Performance:\n",
      "  Total Revenue: $3,360,295\n",
      "  Total Orders: 4,635\n",
      "  Average Order Value: $725\n",
      "  Revenue Growth: decreased by 2.5% vs 2022\n",
      "\n",
      "Product Performance:\n",
      "  Top Category: electronics\n",
      "  Top Category Revenue: $1,401,359\n",
      "  Market Share: 41.7%\n",
      "\n",
      "Geographic Performance:\n",
      "  Top Market: CA\n",
      "  Top Market Revenue: $537,881\n",
      "  Active Markets: 20 states\n",
      "\n",
      "Customer Experience:\n",
      "  Average Rating: 4.1/5.0\n",
      "  High Satisfaction Rate: 52% (4+ stars)\n",
      "  Average Delivery Time: 8.0 days\n",
      "  Fast Delivery Rate: 7% (3 days or less)\n"
     ]
    }
   ],
   "source": [
    "# Generate executive summary\n",
    "print(f\"EXECUTIVE SUMMARY - {ANALYSIS_YEAR} BUSINESS PERFORMANCE\")\n",
    "print(\"=\" * 70)\n",
    "\n",
    "# Financial performance\n",
    "revenue_metrics = business_report['revenue_metrics']\n",
    "print(f\"\\nFinancial Performance:\")\n",
    "print(f\"  Total Revenue: ${revenue_metrics['total_revenue']:,.0f}\")\n",
    "print(f\"  Total Orders: {revenue_metrics['total_orders']:,}\")\n",
    "print(f\"  Average Order Value: ${revenue_metrics['average_order_value']:,.0f}\")\n",
    "\n",
    "if 'revenue_growth_rate' in revenue_metrics:\n",
    "    growth_direction = \"increased\" if revenue_metrics['revenue_growth_rate'] > 0 else \"decreased\"\n",
    "    print(f\"  Revenue Growth: {growth_direction} by {abs(revenue_metrics['revenue_growth_rate']):.1f}% vs {COMPARISON_YEAR}\")\n",
    "\n",
    "# Product performance\n",
    "if 'error' not in business_report['product_performance']:\n",
    "    top_category = business_report['product_performance']['top_categories'].iloc[0]\n",
    "    print(f\"\\nProduct Performance:\")\n",
    "    print(f\"  Top Category: {top_category['product_category_name']}\")\n",
    "    print(f\"  Top Category Revenue: ${top_category['total_revenue']:,.0f}\")\n",
    "    print(f\"  Market Share: {top_category['revenue_share']:.1f}%\")\n",
    "\n",
    "# Geographic performance\n",
    "geo_data = business_report['geographic_performance']\n",
    "if 'error' not in geo_data.columns:\n",
    "    top_state = geo_data.iloc[0]\n",
    "    print(f\"\\nGeographic Performance:\")\n",
    "    print(f\"  Top Market: {top_state['state']}\")\n",
    "    print(f\"  Top Market Revenue: ${top_state['revenue']:,.0f}\")\n",
    "    print(f\"  Active Markets: {len(geo_data)} states\")\n",
    "\n",
    "# Customer experience\n",
    "if 'error' not in business_report['customer_satisfaction']:\n",
    "    satisfaction = business_report['customer_satisfaction']\n",
    "    print(f\"\\nCustomer Experience:\")\n",
    "    print(f\"  Average Rating: {satisfaction['avg_review_score']:.1f}/5.0\")\n",
    "    print(f\"  High Satisfaction Rate: {satisfaction['score_4_plus_percentage']:.0f}% (4+ stars)\")\n",
    "\n",
    "if 'error' not in business_report['delivery_performance']:\n",
    "    delivery = business_report['delivery_performance']\n",
    "    print(f\"  Average Delivery Time: {delivery['avg_delivery_days']:.1f} days\")\n",
    "    print(f\"  Fast Delivery Rate: {delivery['fast_delivery_percentage']:.0f}% (3 days or less)\")"
   ]
  },
  {
   "cell_type": "code",
   "execution_count": 20,
   "metadata": {},
   "outputs": [
    {
     "name": "stdout",
     "output_type": "stream",
     "text": [
      "\n",
      "======================================================================\n",
      "STRATEGIC RECOMMENDATIONS\n",
      "======================================================================\n",
      "\n",
      "1. Address negative revenue growth through customer acquisition and retention initiatives\n",
      "\n",
      "2. Diversify product portfolio to reduce dependency on top categories\n",
      "\n",
      "3. Optimize logistics operations to reduce average delivery time\n",
      "\n",
      "4. Invest in fast delivery capabilities to improve competitive position\n",
      "\n",
      "5. Explore expansion opportunities in underserved geographic markets\n",
      "\n",
      "======================================================================\n",
      "Analysis completed for 2023\n",
      "Comparison baseline: 2022\n",
      "Generated: 2025-10-07 12:37:54\n",
      "======================================================================\n"
     ]
    }
   ],
   "source": [
    "# Generate strategic recommendations\n",
    "print(\"\\n\" + \"=\" * 70)\n",
    "print(\"STRATEGIC RECOMMENDATIONS\")\n",
    "print(\"=\" * 70)\n",
    "\n",
    "recommendations = []\n",
    "\n",
    "# Revenue-based recommendations\n",
    "if 'revenue_growth_rate' in revenue_metrics:\n",
    "    if revenue_metrics['revenue_growth_rate'] < 0:\n",
    "        recommendations.append(\n",
    "            \"Address negative revenue growth through customer acquisition and retention initiatives\"\n",
    "        )\n",
    "    elif revenue_metrics['revenue_growth_rate'] < 5:\n",
    "        recommendations.append(\n",
    "            \"Accelerate growth through market expansion and product diversification\"\n",
    "        )\n",
    "\n",
    "# Product recommendations\n",
    "if 'error' not in business_report['product_performance']:\n",
    "    top_5_share = business_report['product_performance']['top_categories'].head(5)['revenue_share'].sum()\n",
    "    if top_5_share > 70:\n",
    "        recommendations.append(\n",
    "            \"Diversify product portfolio to reduce dependency on top categories\"\n",
    "        )\n",
    "\n",
    "# Customer experience recommendations\n",
    "if 'error' not in business_report['customer_satisfaction']:\n",
    "    satisfaction = business_report['customer_satisfaction']\n",
    "    if satisfaction['avg_review_score'] < 4.0:\n",
    "        recommendations.append(\n",
    "            \"Implement quality improvements to enhance customer satisfaction scores\"\n",
    "        )\n",
    "    if satisfaction['score_1_2_percentage'] > 10:\n",
    "        recommendations.append(\n",
    "            \"Investigate and address root causes of low satisfaction ratings\"\n",
    "        )\n",
    "\n",
    "# Delivery recommendations\n",
    "if 'error' not in business_report['delivery_performance']:\n",
    "    delivery = business_report['delivery_performance']\n",
    "    if delivery['avg_delivery_days'] > 7:\n",
    "        recommendations.append(\n",
    "            \"Optimize logistics operations to reduce average delivery time\"\n",
    "        )\n",
    "    if delivery['fast_delivery_percentage'] < 20:\n",
    "        recommendations.append(\n",
    "            \"Invest in fast delivery capabilities to improve competitive position\"\n",
    "        )\n",
    "\n",
    "# Geographic recommendations\n",
    "if 'error' not in geo_data.columns:\n",
    "    if len(geo_data) < 30:\n",
    "        recommendations.append(\n",
    "            \"Explore expansion opportunities in underserved geographic markets\"\n",
    "        )\n",
    "\n",
    "# Display recommendations\n",
    "if recommendations:\n",
    "    for i, rec in enumerate(recommendations, 1):\n",
    "        print(f\"\\n{i}. {rec}\")\n",
    "else:\n",
    "    print(\"\\nBusiness performance is strong across all analyzed metrics\")\n",
    "\n",
    "print(\"\\n\" + \"=\" * 70)\n",
    "print(f\"Analysis completed for {ANALYSIS_YEAR}\")\n",
    "if COMPARISON_YEAR:\n",
    "    print(f\"Comparison baseline: {COMPARISON_YEAR}\")\n",
    "print(f\"Generated: {pd.Timestamp.now().strftime('%Y-%m-%d %H:%M:%S')}\")\n",
    "print(\"=\" * 70)"
   ]
  },
  {
   "cell_type": "markdown",
   "metadata": {},
   "source": [
    "---\n",
    "\n",
    "## Analysis Configuration Summary\n",
    "\n",
    "This notebook provides a comprehensive, configurable framework for e-commerce business analysis.\n",
    "\n",
    "### Key Features\n",
    "\n",
    "- **Configurable Time Periods**: Easily adjust analysis and comparison years/months\n",
    "- **Modular Architecture**: Reusable data loading and metrics calculation modules\n",
    "- **Comprehensive Metrics**: Revenue, product, geographic, and customer experience analysis\n",
    "- **Professional Visualizations**: Business-oriented charts with proper formatting\n",
    "- **Strategic Insights**: Data-driven recommendations based on performance metrics\n",
    "\n",
    "### How to Use\n",
    "\n",
    "1. **Configure Analysis Parameters**: Modify ANALYSIS_YEAR, COMPARISON_YEAR, and ANALYSIS_MONTH at the top\n",
    "2. **Run All Cells**: Execute the notebook to generate the complete analysis\n",
    "3. **Review Outputs**: Examine metrics, visualizations, and recommendations\n",
    "4. **Export Results**: Save visualizations and tables for reporting\n",
    "\n",
    "### Extending the Analysis\n",
    "\n",
    "- Add new metrics in the `business_metrics.py` module\n",
    "- Customize visualizations in the `MetricsVisualizer` class\n",
    "- Modify data loading logic in `data_loader.py` for different data sources\n",
    "- Create additional analysis sections as needed\n",
    "\n",
    "---"
   ]
  }
 ],
 "metadata": {
  "kernelspec": {
   "display_name": "venv",
   "language": "python",
   "name": "python3"
  },
  "language_info": {
   "codemirror_mode": {
    "name": "ipython",
    "version": 3
   },
   "file_extension": ".py",
   "mimetype": "text/x-python",
   "name": "python",
   "nbconvert_exporter": "python",
   "pygments_lexer": "ipython3",
   "version": "3.13.7"
  }
 },
 "nbformat": 4,
 "nbformat_minor": 4
}
